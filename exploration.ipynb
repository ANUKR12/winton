{
 "cells": [
  {
   "cell_type": "code",
   "execution_count": 2,
   "metadata": {
    "collapsed": true
   },
   "outputs": [],
   "source": [
    "import numpy as np\n",
    "import pandas as pd\n",
    "from sklearn.preprocessing import StandardScaler\n",
    "from sklearn.cross_validation import train_test_split\n",
    "from utils import one_hot_dataframe, scale_dataframe, impute_dataframe"
   ]
  },
  {
   "cell_type": "code",
   "execution_count": 3,
   "metadata": {
    "collapsed": true
   },
   "outputs": [],
   "source": [
    "%matplotlib inline\n",
    "import matplotlib.pyplot as plt"
   ]
  },
  {
   "cell_type": "code",
   "execution_count": 16,
   "metadata": {
    "collapsed": true
   },
   "outputs": [],
   "source": [
    "train = pd.read_csv('data/train.csv')\n",
    "test = pd.read_csv('data/test.csv')"
   ]
  },
  {
   "cell_type": "code",
   "execution_count": 15,
   "metadata": {
    "collapsed": true
   },
   "outputs": [],
   "source": [
    "# drop NaN\n",
    "#train = train.dropna()\n",
    "#test = test.dropna()"
   ]
  },
  {
   "cell_type": "code",
   "execution_count": 10,
   "metadata": {
    "collapsed": false
   },
   "outputs": [
    {
     "data": {
      "text/html": [
       "<div>\n",
       "<table border=\"1\" class=\"dataframe\">\n",
       "  <thead>\n",
       "    <tr style=\"text-align: right;\">\n",
       "      <th></th>\n",
       "      <th>Id</th>\n",
       "      <th>Feature_1</th>\n",
       "      <th>Feature_2</th>\n",
       "      <th>Feature_3</th>\n",
       "      <th>Feature_4</th>\n",
       "      <th>Feature_5</th>\n",
       "      <th>Feature_6</th>\n",
       "      <th>Feature_7</th>\n",
       "      <th>Feature_8</th>\n",
       "      <th>Feature_9</th>\n",
       "      <th>...</th>\n",
       "      <th>Ret_175</th>\n",
       "      <th>Ret_176</th>\n",
       "      <th>Ret_177</th>\n",
       "      <th>Ret_178</th>\n",
       "      <th>Ret_179</th>\n",
       "      <th>Ret_180</th>\n",
       "      <th>Ret_PlusOne</th>\n",
       "      <th>Ret_PlusTwo</th>\n",
       "      <th>Weight_Intraday</th>\n",
       "      <th>Weight_Daily</th>\n",
       "    </tr>\n",
       "  </thead>\n",
       "  <tbody>\n",
       "    <tr>\n",
       "      <th>4</th>\n",
       "      <td>5</td>\n",
       "      <td>6</td>\n",
       "      <td>-1.736489</td>\n",
       "      <td>2.765531</td>\n",
       "      <td>1.245280</td>\n",
       "      <td>7</td>\n",
       "      <td>4.866985</td>\n",
       "      <td>22423</td>\n",
       "      <td>0.2138</td>\n",
       "      <td>13</td>\n",
       "      <td>...</td>\n",
       "      <td>-0.001235</td>\n",
       "      <td>0.000027</td>\n",
       "      <td>0.002449</td>\n",
       "      <td>0.000009</td>\n",
       "      <td>0.001209</td>\n",
       "      <td>-0.000004</td>\n",
       "      <td>0.036104</td>\n",
       "      <td>-0.026552</td>\n",
       "      <td>1267270.264754</td>\n",
       "      <td>1584087.830943</td>\n",
       "    </tr>\n",
       "    <tr>\n",
       "      <th>19</th>\n",
       "      <td>20</td>\n",
       "      <td>8</td>\n",
       "      <td>-1.225009</td>\n",
       "      <td>0.787305</td>\n",
       "      <td>0.642112</td>\n",
       "      <td>5</td>\n",
       "      <td>0.064140</td>\n",
       "      <td>65146</td>\n",
       "      <td>0.3418</td>\n",
       "      <td>10</td>\n",
       "      <td>...</td>\n",
       "      <td>0.000444</td>\n",
       "      <td>-0.000220</td>\n",
       "      <td>0.000561</td>\n",
       "      <td>0.000564</td>\n",
       "      <td>-0.000682</td>\n",
       "      <td>0.000028</td>\n",
       "      <td>0.000229</td>\n",
       "      <td>0.004250</td>\n",
       "      <td>1695050.900290</td>\n",
       "      <td>2118813.625362</td>\n",
       "    </tr>\n",
       "    <tr>\n",
       "      <th>68</th>\n",
       "      <td>69</td>\n",
       "      <td>5</td>\n",
       "      <td>2.254666</td>\n",
       "      <td>0.857591</td>\n",
       "      <td>1.129848</td>\n",
       "      <td>8</td>\n",
       "      <td>0.210208</td>\n",
       "      <td>56222</td>\n",
       "      <td>0.2119</td>\n",
       "      <td>10</td>\n",
       "      <td>...</td>\n",
       "      <td>0.000870</td>\n",
       "      <td>0.000866</td>\n",
       "      <td>-0.000882</td>\n",
       "      <td>0.000003</td>\n",
       "      <td>-0.000882</td>\n",
       "      <td>-0.001741</td>\n",
       "      <td>0.058941</td>\n",
       "      <td>0.015947</td>\n",
       "      <td>1168878.932070</td>\n",
       "      <td>1461098.665088</td>\n",
       "    </tr>\n",
       "    <tr>\n",
       "      <th>89</th>\n",
       "      <td>90</td>\n",
       "      <td>1</td>\n",
       "      <td>-0.976034</td>\n",
       "      <td>0.852994</td>\n",
       "      <td>0.778767</td>\n",
       "      <td>5</td>\n",
       "      <td>0.173363</td>\n",
       "      <td>38839</td>\n",
       "      <td>0.0099</td>\n",
       "      <td>15</td>\n",
       "      <td>...</td>\n",
       "      <td>-0.000230</td>\n",
       "      <td>0.001382</td>\n",
       "      <td>-0.000121</td>\n",
       "      <td>-0.000426</td>\n",
       "      <td>-0.000227</td>\n",
       "      <td>-0.000005</td>\n",
       "      <td>0.002164</td>\n",
       "      <td>-0.009452</td>\n",
       "      <td>1548476.666048</td>\n",
       "      <td>1935595.832559</td>\n",
       "    </tr>\n",
       "    <tr>\n",
       "      <th>98</th>\n",
       "      <td>99</td>\n",
       "      <td>1</td>\n",
       "      <td>2.576757</td>\n",
       "      <td>3.277136</td>\n",
       "      <td>0.939887</td>\n",
       "      <td>9</td>\n",
       "      <td>1.539488</td>\n",
       "      <td>14939</td>\n",
       "      <td>0.2208</td>\n",
       "      <td>16</td>\n",
       "      <td>...</td>\n",
       "      <td>0.000617</td>\n",
       "      <td>-0.001246</td>\n",
       "      <td>-0.001111</td>\n",
       "      <td>-0.000242</td>\n",
       "      <td>-0.001110</td>\n",
       "      <td>-0.000236</td>\n",
       "      <td>-0.022744</td>\n",
       "      <td>-0.010156</td>\n",
       "      <td>1269136.920784</td>\n",
       "      <td>1586421.150980</td>\n",
       "    </tr>\n",
       "  </tbody>\n",
       "</table>\n",
       "<p>5 rows × 211 columns</p>\n",
       "</div>"
      ],
      "text/plain": [
       "    Id  Feature_1  Feature_2  Feature_3  Feature_4  Feature_5  Feature_6  \\\n",
       "4    5          6  -1.736489   2.765531   1.245280          7   4.866985   \n",
       "19  20          8  -1.225009   0.787305   0.642112          5   0.064140   \n",
       "68  69          5   2.254666   0.857591   1.129848          8   0.210208   \n",
       "89  90          1  -0.976034   0.852994   0.778767          5   0.173363   \n",
       "98  99          1   2.576757   3.277136   0.939887          9   1.539488   \n",
       "\n",
       "    Feature_7  Feature_8  Feature_9       ...         Ret_175   Ret_176  \\\n",
       "4       22423     0.2138         13       ...       -0.001235  0.000027   \n",
       "19      65146     0.3418         10       ...        0.000444 -0.000220   \n",
       "68      56222     0.2119         10       ...        0.000870  0.000866   \n",
       "89      38839     0.0099         15       ...       -0.000230  0.001382   \n",
       "98      14939     0.2208         16       ...        0.000617 -0.001246   \n",
       "\n",
       "     Ret_177   Ret_178   Ret_179   Ret_180  Ret_PlusOne  Ret_PlusTwo  \\\n",
       "4   0.002449  0.000009  0.001209 -0.000004     0.036104    -0.026552   \n",
       "19  0.000561  0.000564 -0.000682  0.000028     0.000229     0.004250   \n",
       "68 -0.000882  0.000003 -0.000882 -0.001741     0.058941     0.015947   \n",
       "89 -0.000121 -0.000426 -0.000227 -0.000005     0.002164    -0.009452   \n",
       "98 -0.001111 -0.000242 -0.001110 -0.000236    -0.022744    -0.010156   \n",
       "\n",
       "    Weight_Intraday    Weight_Daily  \n",
       "4    1267270.264754  1584087.830943  \n",
       "19   1695050.900290  2118813.625362  \n",
       "68   1168878.932070  1461098.665088  \n",
       "89   1548476.666048  1935595.832559  \n",
       "98   1269136.920784  1586421.150980  \n",
       "\n",
       "[5 rows x 211 columns]"
      ]
     },
     "execution_count": 10,
     "metadata": {},
     "output_type": "execute_result"
    }
   ],
   "source": [
    "train.head()"
   ]
  },
  {
   "cell_type": "code",
   "execution_count": 12,
   "metadata": {
    "collapsed": false
   },
   "outputs": [
    {
     "data": {
      "text/plain": [
       "<matplotlib.axes._subplots.AxesSubplot at 0x127268290>"
      ]
     },
     "execution_count": 12,
     "metadata": {},
     "output_type": "execute_result"
    },
    {
     "data": {
      "image/png": "[encoded data removed]",
      "text/plain": [
       "<matplotlib.figure.Figure at 0x105ef3350>"
      ]
     },
     "metadata": {},
     "output_type": "display_data"
    }
   ],
   "source": [
    "train['Feature_9'].hist()"
   ]
  },
  {
   "cell_type": "code",
   "execution_count": 17,
   "metadata": {
    "collapsed": false
   },
   "outputs": [
    {
     "name": "stdout",
     "output_type": "stream",
     "text": [
      "40000\n",
      "929\n"
     ]
    }
   ],
   "source": [
    "print len(train)\n",
    "print len(train.dropna())"
   ]
  },
  {
   "cell_type": "code",
   "execution_count": null,
   "metadata": {
    "collapsed": true
   },
   "outputs": [],
   "source": []
  }
 ],
 "metadata": {
  "kernelspec": {
   "display_name": "Python 2",
   "language": "python",
   "name": "python2"
  },
  "language_info": {
   "codemirror_mode": {
    "name": "ipython",
    "version": 2
   },
   "file_extension": ".py",
   "mimetype": "text/x-python",
   "name": "python",
   "nbconvert_exporter": "python",
   "pygments_lexer": "ipython2",
   "version": "2.7.10"
  }
 },
 "nbformat": 4,
 "nbformat_minor": 0
}
